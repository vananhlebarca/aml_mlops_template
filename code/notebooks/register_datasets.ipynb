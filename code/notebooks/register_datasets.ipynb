{
 "metadata": {
  "language_info": {
   "codemirror_mode": {
    "name": "ipython",
    "version": 3
   },
   "file_extension": ".py",
   "mimetype": "text/x-python",
   "name": "python",
   "nbconvert_exporter": "python",
   "pygments_lexer": "ipython3",
   "version": "3.8.8"
  },
  "orig_nbformat": 2,
  "kernelspec": {
   "name": "python388jvsc74a57bd0178929f378590309df04547d23a5e50637591c2b07e35ab82ac8ed464d2b500f",
   "display_name": "Python 3.8.8 64-bit ('aml_mlops_template': conda)"
  },
  "metadata": {
   "interpreter": {
    "hash": "178929f378590309df04547d23a5e50637591c2b07e35ab82ac8ed464d2b500f"
   }
  }
 },
 "nbformat": 4,
 "nbformat_minor": 2,
 "cells": [
  {
   "source": [
    "### Step 1. Manually upload file datasets/wine.csv into dp100/aml_mlops_template/wine.csv in storage account."
   ],
   "cell_type": "markdown",
   "metadata": {}
  },
  {
   "cell_type": "code",
   "execution_count": 1,
   "metadata": {},
   "outputs": [],
   "source": [
    "from azureml.core import Workspace\n",
    "from azureml.core import Datastore\n",
    "from azureml.core import Dataset"
   ]
  },
  {
   "cell_type": "code",
   "execution_count": 2,
   "metadata": {},
   "outputs": [],
   "source": [
    "ws = Workspace.from_config()"
   ]
  },
  {
   "source": [
    "### Step 2: Register a new datastore (can also do via AML studio)"
   ],
   "cell_type": "markdown",
   "metadata": {}
  },
  {
   "cell_type": "code",
   "execution_count": 3,
   "metadata": {},
   "outputs": [],
   "source": [
    "\n",
    "blob_ds = Datastore.register_azure_blob_container(workspace=ws, \n",
    "                                                  datastore_name='aml_mlops_template', \n",
    "                                                  container_name='dp100',\n",
    "                                                  account_name='dp1008621642936',\n",
    "                                                  account_key='YB/PgDvfosbNXdPTScNQ8O0x4owNqr8Cl6mR+m+zcWb3bwM0M9l6yIGHGqWsTbDmaRay0whxrStFoXBnAUoQrw==')\n"
   ]
  },
  {
   "source": [
    "### Step 3: Creating and registering tabular datasets (can also do via AML studio)"
   ],
   "cell_type": "markdown",
   "metadata": {}
  },
  {
   "cell_type": "code",
   "execution_count": 4,
   "metadata": {},
   "outputs": [],
   "source": [
    "# \n",
    "# blob_store = Datastore.get(ws, datastore_name='aml_mlops_template') # retrieving an existing datastore\n",
    "csv_paths = [(blob_ds, 'aml_mlops_template/wine.csv'),]\n",
    "dataset_ds = Dataset.Tabular.from_delimited_files(path=csv_paths)\n",
    "dataset_ds = dataset_ds.register(workspace=ws, name='wine_dataset')\n",
    "\n"
   ]
  },
  {
   "cell_type": "code",
   "execution_count": 5,
   "metadata": {},
   "outputs": [
    {
     "output_type": "stream",
     "name": "stdout",
     "text": [
      "(6497, 13)\n   fixed acidity  volatile acidity  citric acid  residual sugar  chlorides  \\\n0            7.4              0.70         0.00             1.9      0.076   \n1            7.8              0.88         0.00             2.6      0.098   \n2            7.8              0.76         0.04             2.3      0.092   \n3           11.2              0.28         0.56             1.9      0.075   \n4            7.4              0.70         0.00             1.9      0.076   \n\n   free sulfur dioxide  total sulfur dioxide  density    pH  sulphates  \\\n0                 11.0                  34.0   0.9978  3.51       0.56   \n1                 25.0                  67.0   0.9968  3.20       0.68   \n2                 15.0                  54.0   0.9970  3.26       0.65   \n3                 17.0                  60.0   0.9980  3.16       0.58   \n4                 11.0                  34.0   0.9978  3.51       0.56   \n\n   alcohol  quality  is_red  \n0      9.4        5       1  \n1      9.8        5       1  \n2      9.8        5       1  \n3      9.8        6       1  \n4      9.4        5       1  \n"
     ]
    }
   ],
   "source": [
    "# View data\n",
    "df = dataset_ds.to_pandas_dataframe()\n",
    "print(df.shape)\n",
    "print(df.head())"
   ]
  },
  {
   "cell_type": "code",
   "execution_count": 7,
   "metadata": {},
   "outputs": [
    {
     "output_type": "stream",
     "name": "stdout",
     "text": [
      "(6497, 13)\n"
     ]
    }
   ],
   "source": [
    "print(df.shape)"
   ]
  },
  {
   "cell_type": "code",
   "execution_count": null,
   "metadata": {},
   "outputs": [],
   "source": []
  }
 ]
}